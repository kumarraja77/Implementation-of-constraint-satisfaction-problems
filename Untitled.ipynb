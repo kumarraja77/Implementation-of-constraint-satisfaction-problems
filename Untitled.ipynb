{
 "cells": [
  {
   "cell_type": "code",
   "execution_count": 4,
   "id": "2d95042b",
   "metadata": {},
   "outputs": [],
   "source": [
    "import itertools\n",
    "\n",
    "def get_value(word, substitution):\n",
    "    s = 0\n",
    "    factor = 1\n",
    "    for letter in reversed(word):\n",
    "        s += factor * substitution[letter]\n",
    "        factor *= 10\n",
    "    return s\n",
    "\n",
    "def solve2(equation):\n",
    "    left, right = equation.lower().replace(' ', '').split('=')\n",
    "    left = left.split('+')\n",
    "    letters = set(right)\n",
    "    for word in left:\n",
    "        for letter in word:\n",
    "            letters.add(letter)\n",
    "    letters = list(letters)\n",
    "\n",
    "    digits = range(10)\n",
    "    for perm in itertools.permutations(digits, len(letters)):\n",
    "        sol = dict(zip(letters, perm))\n",
    "\n",
    "        if sum(get_value(word, sol) for word in left) == get_value(right, sol):\n",
    "            print(' + '.join(str(get_value(word, sol)) for word in left) + \" = {} (mapping: {})\".format(get_value(right, sol), sol))"
   ]
  },
  {
   "cell_type": "code",
   "execution_count": 3,
   "id": "8be8cbcd",
   "metadata": {},
   "outputs": [
    {
     "name": "stdout",
     "output_type": "stream",
     "text": [
      "EAT + THAT = APPLE \n",
      "38549 + 2068 = 40617 (mapping: {'z': 2, 'n': 4, 'o': 8, 'r': 6, 't': 9, 'g': 1, 'e': 0, 'p': 3, 'y': 7, 'i': 5})\n",
      "58369 + 2048 = 60417 (mapping: {'z': 2, 'n': 6, 'o': 8, 'r': 4, 't': 9, 'g': 1, 'e': 0, 'p': 5, 'y': 7, 'i': 3})\n",
      "98504 + 3168 = 101672 (mapping: {'z': 3, 'n': 0, 'o': 8, 'r': 6, 't': 4, 'g': 7, 'e': 1, 'p': 9, 'y': 2, 'i': 5})\n",
      "24735 + 6084 = 30819 (mapping: {'z': 6, 'n': 3, 'o': 4, 'r': 8, 't': 5, 'g': 1, 'e': 0, 'p': 2, 'y': 9, 'i': 7})\n",
      "74285 + 6034 = 80319 (mapping: {'z': 6, 'n': 8, 'o': 4, 'r': 3, 't': 5, 'g': 1, 'e': 0, 'p': 7, 'y': 9, 'i': 2})\n",
      "42659 + 8072 = 50731 (mapping: {'z': 8, 'n': 5, 'o': 2, 'r': 7, 't': 9, 'g': 3, 'e': 0, 'p': 4, 'y': 1, 'i': 6})\n",
      "62479 + 8052 = 70531 (mapping: {'z': 8, 'n': 7, 'o': 2, 'r': 5, 't': 9, 'g': 3, 'e': 0, 'p': 6, 'y': 1, 'i': 4})\n",
      "31745 + 9081 = 40826 (mapping: {'z': 9, 'n': 4, 'o': 1, 'r': 8, 't': 5, 'g': 2, 'e': 0, 'p': 3, 'y': 6, 'i': 7})\n",
      "51762 + 9081 = 60843 (mapping: {'z': 9, 'n': 6, 'o': 1, 'r': 8, 't': 2, 'g': 4, 'e': 0, 'p': 5, 'y': 3, 'i': 7})\n",
      "71385 + 9041 = 80426 (mapping: {'z': 9, 'n': 8, 'o': 1, 'r': 4, 't': 5, 'g': 2, 'e': 0, 'p': 7, 'y': 6, 'i': 3})\n",
      "71582 + 9061 = 80643 (mapping: {'z': 9, 'n': 8, 'o': 1, 'r': 6, 't': 2, 'g': 4, 'e': 0, 'p': 7, 'y': 3, 'i': 5})\n"
     ]
    }
   ],
   "source": [
    "print('EAT + THAT = APPLE ')\n",
    "solve2('POINT + ZERO = ENERGY ')"
   ]
  }
 ],
 "metadata": {
  "kernelspec": {
   "display_name": "Python 3",
   "language": "python",
   "name": "python3"
  },
  "language_info": {
   "codemirror_mode": {
    "name": "ipython",
    "version": 3
   },
   "file_extension": ".py",
   "mimetype": "text/x-python",
   "name": "python",
   "nbconvert_exporter": "python",
   "pygments_lexer": "ipython3",
   "version": "3.8.8"
  }
 },
 "nbformat": 4,
 "nbformat_minor": 5
}
